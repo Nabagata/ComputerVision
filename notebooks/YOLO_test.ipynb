{
  "nbformat": 4,
  "nbformat_minor": 0,
  "metadata": {
    "colab": {
      "name": "YOLO_test.ipynb",
      "provenance": []
    },
    "kernelspec": {
      "name": "python3",
      "display_name": "Python 3"
    },
    "accelerator": "GPU"
  },
  "cells": [
    {
      "cell_type": "code",
      "metadata": {
        "id": "g0087YEkeign",
        "colab_type": "code",
        "outputId": "c51540ff-bdd0-45bb-d9bf-dc688dbeec4e",
        "colab": {
          "base_uri": "https://localhost:8080/",
          "height": 102
        }
      },
      "source": [
        "!git clone https://github.com/pjreddie/darknet"
      ],
      "execution_count": 1,
      "outputs": [
        {
          "output_type": "stream",
          "text": [
            "Cloning into 'darknet'...\n",
            "remote: Enumerating objects: 5904, done.\u001b[K\n",
            "Receiving objects:   0% (1/5904)   \rReceiving objects:   1% (60/5904)   \rReceiving objects:   2% (119/5904)   \rReceiving objects:   3% (178/5904)   \rReceiving objects:   4% (237/5904)   \rReceiving objects:   5% (296/5904)   \rReceiving objects:   6% (355/5904)   \rReceiving objects:   7% (414/5904)   \rReceiving objects:   8% (473/5904)   \rReceiving objects:   9% (532/5904)   \rReceiving objects:  10% (591/5904)   \rReceiving objects:  11% (650/5904)   \rReceiving objects:  12% (709/5904)   \rReceiving objects:  13% (768/5904)   \rReceiving objects:  14% (827/5904)   \rReceiving objects:  15% (886/5904)   \rReceiving objects:  16% (945/5904)   \rReceiving objects:  17% (1004/5904)   \rReceiving objects:  18% (1063/5904)   \rReceiving objects:  19% (1122/5904)   \rReceiving objects:  20% (1181/5904)   \rReceiving objects:  21% (1240/5904)   \rReceiving objects:  22% (1299/5904)   \rReceiving objects:  23% (1358/5904)   \rReceiving objects:  24% (1417/5904)   \rReceiving objects:  25% (1476/5904)   \rReceiving objects:  26% (1536/5904)   \rReceiving objects:  27% (1595/5904)   \rReceiving objects:  28% (1654/5904)   \rReceiving objects:  29% (1713/5904)   \rReceiving objects:  30% (1772/5904)   \rReceiving objects:  31% (1831/5904)   \rReceiving objects:  32% (1890/5904)   \rReceiving objects:  33% (1949/5904)   \rReceiving objects:  34% (2008/5904)   \rReceiving objects:  35% (2067/5904)   \rReceiving objects:  36% (2126/5904)   \rReceiving objects:  37% (2185/5904)   \rReceiving objects:  38% (2244/5904)   \rReceiving objects:  39% (2303/5904)   \rReceiving objects:  40% (2362/5904)   \rReceiving objects:  41% (2421/5904)   \rReceiving objects:  42% (2480/5904)   \rReceiving objects:  43% (2539/5904)   \rReceiving objects:  44% (2598/5904)   \rReceiving objects:  45% (2657/5904)   \rReceiving objects:  46% (2716/5904)   \rReceiving objects:  47% (2775/5904)   \rReceiving objects:  48% (2834/5904)   \rReceiving objects:  49% (2893/5904)   \rReceiving objects:  50% (2952/5904)   \rReceiving objects:  51% (3012/5904)   \rReceiving objects:  52% (3071/5904)   \rReceiving objects:  53% (3130/5904)   \rReceiving objects:  54% (3189/5904)   \rReceiving objects:  55% (3248/5904)   \rReceiving objects:  56% (3307/5904)   \rReceiving objects:  57% (3366/5904)   \rReceiving objects:  58% (3425/5904)   \rReceiving objects:  59% (3484/5904)   \rReceiving objects:  60% (3543/5904)   \rReceiving objects:  61% (3602/5904)   \rReceiving objects:  62% (3661/5904)   \rReceiving objects:  63% (3720/5904)   \rReceiving objects:  64% (3779/5904)   \rReceiving objects:  65% (3838/5904)   \rReceiving objects:  66% (3897/5904)   \rReceiving objects:  67% (3956/5904)   \rReceiving objects:  68% (4015/5904)   \rReceiving objects:  69% (4074/5904)   \rReceiving objects:  70% (4133/5904)   \rReceiving objects:  71% (4192/5904)   \rReceiving objects:  72% (4251/5904)   \rReceiving objects:  73% (4310/5904)   \rReceiving objects:  74% (4369/5904)   \rReceiving objects:  75% (4428/5904)   \rReceiving objects:  76% (4488/5904)   \rReceiving objects:  77% (4547/5904)   \rReceiving objects:  78% (4606/5904)   \rReceiving objects:  79% (4665/5904)   \rReceiving objects:  80% (4724/5904)   \rReceiving objects:  81% (4783/5904)   \rReceiving objects:  82% (4842/5904)   \rReceiving objects:  83% (4901/5904)   \rReceiving objects:  84% (4960/5904)   \rReceiving objects:  85% (5019/5904)   \rReceiving objects:  86% (5078/5904)   \rReceiving objects:  87% (5137/5904)   \rReceiving objects:  88% (5196/5904)   \rReceiving objects:  89% (5255/5904)   \rReceiving objects:  90% (5314/5904)   \rReceiving objects:  91% (5373/5904)   \rReceiving objects:  92% (5432/5904)   \rReceiving objects:  93% (5491/5904)   \rReceiving objects:  94% (5550/5904)   \rReceiving objects:  95% (5609/5904)   \rReceiving objects:  96% (5668/5904)   \rReceiving objects:  97% (5727/5904)   \rremote: Total 5904 (delta 0), reused 0 (delta 0), pack-reused 5904\u001b[K\n",
            "Receiving objects:  98% (5786/5904)   \rReceiving objects:  99% (5845/5904)   \rReceiving objects: 100% (5904/5904)   \rReceiving objects: 100% (5904/5904), 6.17 MiB | 12.74 MiB/s, done.\n",
            "Resolving deltas:   0% (0/3922)   \rResolving deltas:   1% (76/3922)   \rResolving deltas:   3% (121/3922)   \rResolving deltas:   4% (157/3922)   \rResolving deltas:   5% (201/3922)   \rResolving deltas:   6% (237/3922)   \rResolving deltas:   7% (275/3922)   \rResolving deltas:   8% (323/3922)   \rResolving deltas:   9% (363/3922)   \rResolving deltas:  10% (399/3922)   \rResolving deltas:  11% (434/3922)   \rResolving deltas:  12% (478/3922)   \rResolving deltas:  13% (516/3922)   \rResolving deltas:  14% (570/3922)   \rResolving deltas:  15% (590/3922)   \rResolving deltas:  16% (634/3922)   \rResolving deltas:  17% (681/3922)   \rResolving deltas:  18% (706/3922)   \rResolving deltas:  19% (751/3922)   \rResolving deltas:  20% (787/3922)   \rResolving deltas:  21% (825/3922)   \rResolving deltas:  22% (865/3922)   \rResolving deltas:  23% (903/3922)   \rResolving deltas:  24% (945/3922)   \rResolving deltas:  25% (983/3922)   \rResolving deltas:  26% (1039/3922)   \rResolving deltas:  27% (1064/3922)   \rResolving deltas:  28% (1101/3922)   \rResolving deltas:  29% (1151/3922)   \rResolving deltas:  30% (1177/3922)   \rResolving deltas:  31% (1252/3922)   \rResolving deltas:  32% (1257/3922)   \rResolving deltas:  33% (1313/3922)   \rResolving deltas:  34% (1334/3922)   \rResolving deltas:  35% (1374/3922)   \rResolving deltas:  36% (1437/3922)   \rResolving deltas:  37% (1456/3922)   \rResolving deltas:  38% (1494/3922)   \rResolving deltas:  39% (1535/3922)   \rResolving deltas:  40% (1570/3922)   \rResolving deltas:  41% (1612/3922)   \rResolving deltas:  42% (1678/3922)   \rResolving deltas:  43% (1691/3922)   \rResolving deltas:  44% (1726/3922)   \rResolving deltas:  45% (1770/3922)   \rResolving deltas:  46% (1812/3922)   \rResolving deltas:  47% (1850/3922)   \rResolving deltas:  48% (1921/3922)   \rResolving deltas:  49% (1924/3922)   \rResolving deltas:  50% (1962/3922)   \rResolving deltas:  51% (2001/3922)   \rResolving deltas:  52% (2046/3922)   \rResolving deltas:  53% (2080/3922)   \rResolving deltas:  54% (2119/3922)   \rResolving deltas:  55% (2182/3922)   \rResolving deltas:  56% (2197/3922)   \rResolving deltas:  57% (2241/3922)   \rResolving deltas:  58% (2275/3922)   \rResolving deltas:  59% (2315/3922)   \rResolving deltas:  60% (2355/3922)   \rResolving deltas:  61% (2394/3922)   \rResolving deltas:  62% (2434/3922)   \rResolving deltas:  63% (2474/3922)   \rResolving deltas:  64% (2511/3922)   \rResolving deltas:  66% (2609/3922)   \rResolving deltas:  67% (2640/3922)   \rResolving deltas:  68% (2685/3922)   \rResolving deltas:  69% (2707/3922)   \rResolving deltas:  70% (2776/3922)   \rResolving deltas:  71% (2812/3922)   \rResolving deltas:  72% (2863/3922)   \rResolving deltas:  74% (2922/3922)   \rResolving deltas:  77% (3027/3922)   \rResolving deltas:  78% (3061/3922)   \rResolving deltas:  79% (3099/3922)   \rResolving deltas:  81% (3210/3922)   \rResolving deltas:  82% (3231/3922)   \rResolving deltas:  84% (3307/3922)   \rResolving deltas:  85% (3336/3922)   \rResolving deltas:  86% (3375/3922)   \rResolving deltas:  87% (3414/3922)   \rResolving deltas:  88% (3455/3922)   \rResolving deltas:  89% (3505/3922)   \rResolving deltas:  90% (3534/3922)   \rResolving deltas:  91% (3579/3922)   \rResolving deltas:  92% (3616/3922)   \rResolving deltas:  93% (3669/3922)   \rResolving deltas:  94% (3691/3922)   \rResolving deltas:  95% (3732/3922)   \rResolving deltas:  96% (3776/3922)   \rResolving deltas:  97% (3826/3922)   \rResolving deltas:  98% (3846/3922)   \rResolving deltas:  99% (3887/3922)   \rResolving deltas: 100% (3922/3922)   \rResolving deltas: 100% (3922/3922), done.\n"
          ],
          "name": "stdout"
        }
      ]
    },
    {
      "cell_type": "code",
      "metadata": {
        "id": "UApx0x5QersS",
        "colab_type": "code",
        "outputId": "a557e87c-cddb-400f-85b8-a0878ac78179",
        "colab": {
          "base_uri": "https://localhost:8080/",
          "height": 34
        }
      },
      "source": [
        "!ls"
      ],
      "execution_count": 2,
      "outputs": [
        {
          "output_type": "stream",
          "text": [
            "darknet  sample_data\n"
          ],
          "name": "stdout"
        }
      ]
    },
    {
      "cell_type": "code",
      "metadata": {
        "id": "5CNZy2ZnewbR",
        "colab_type": "code",
        "outputId": "67380c39-4398-42ad-e7e4-c96e4a6750ff",
        "colab": {
          "base_uri": "https://localhost:8080/",
          "height": 34
        }
      },
      "source": [
        "cd darknet"
      ],
      "execution_count": 4,
      "outputs": [
        {
          "output_type": "stream",
          "text": [
            "/content/darknet\n"
          ],
          "name": "stdout"
        }
      ]
    },
    {
      "cell_type": "code",
      "metadata": {
        "id": "PAp8Rpcje-v0",
        "colab_type": "code",
        "outputId": "214bf71c-fe73-4484-dcbb-131f7d099a0f",
        "colab": {
          "base_uri": "https://localhost:8080/",
          "height": 68
        }
      },
      "source": [
        "!ls"
      ],
      "execution_count": 5,
      "outputs": [
        {
          "output_type": "stream",
          "text": [
            "cfg\t  include\tLICENSE.gen   LICENSE.mit  python     src\n",
            "data\t  LICENSE\tLICENSE.gpl   LICENSE.v1   README.md\n",
            "examples  LICENSE.fuck\tLICENSE.meta  Makefile\t   scripts\n"
          ],
          "name": "stdout"
        }
      ]
    },
    {
      "cell_type": "code",
      "metadata": {
        "id": "ZkBJ_L9ofKTE",
        "colab_type": "code",
        "colab": {}
      },
      "source": [
        "!sed -i 's/GPU=0/GPU=1/g' Makefile"
      ],
      "execution_count": 0,
      "outputs": []
    },
    {
      "cell_type": "code",
      "metadata": {
        "id": "evIypb51fYcs",
        "colab_type": "code",
        "outputId": "05f2bc2c-0b9c-4f89-df8a-5e1c73f1a02d",
        "colab": {
          "base_uri": "https://localhost:8080/",
          "height": 1000
        }
      },
      "source": [
        "!make"
      ],
      "execution_count": 7,
      "outputs": [
        {
          "output_type": "stream",
          "text": [
            "mkdir -p obj\n",
            "mkdir -p backup\n",
            "mkdir -p results\n",
            "gcc -Iinclude/ -Isrc/ -DGPU -I/usr/local/cuda/include/ -Wall -Wno-unused-result -Wno-unknown-pragmas -Wfatal-errors -fPIC -Ofast -DGPU -c ./src/gemm.c -o obj/gemm.o\n",
            "\u001b[01m\u001b[K./src/gemm.c:\u001b[m\u001b[K In function ‘\u001b[01m\u001b[Ktime_gpu\u001b[m\u001b[K’:\n",
            "\u001b[01m\u001b[K./src/gemm.c:232:9:\u001b[m\u001b[K \u001b[01;35m\u001b[Kwarning: \u001b[m\u001b[K‘\u001b[01m\u001b[KcudaThreadSynchronize\u001b[m\u001b[K’ is deprecated [\u001b[01;35m\u001b[K-Wdeprecated-declarations\u001b[m\u001b[K]\n",
            "         \u001b[01;35m\u001b[KcudaThreadSynchronize\u001b[m\u001b[K();\n",
            "         \u001b[01;35m\u001b[K^~~~~~~~~~~~~~~~~~~~~\u001b[m\u001b[K\n",
            "In file included from \u001b[01m\u001b[K/usr/local/cuda/include/cuda_runtime.h:96:0\u001b[m\u001b[K,\n",
            "                 from \u001b[01m\u001b[Kinclude/darknet.h:11\u001b[m\u001b[K,\n",
            "                 from \u001b[01m\u001b[K./src/utils.h:5\u001b[m\u001b[K,\n",
            "                 from \u001b[01m\u001b[K./src/gemm.c:2\u001b[m\u001b[K:\n",
            "\u001b[01m\u001b[K/usr/local/cuda/include/cuda_runtime_api.h:957:57:\u001b[m\u001b[K \u001b[01;36m\u001b[Knote: \u001b[m\u001b[Kdeclared here\n",
            " extern __CUDA_DEPRECATED __host__ cudaError_t CUDARTAPI \u001b[01;36m\u001b[KcudaThreadSynchronize\u001b[m\u001b[K(void);\n",
            "                                                         \u001b[01;36m\u001b[K^~~~~~~~~~~~~~~~~~~~~\u001b[m\u001b[K\n",
            "gcc -Iinclude/ -Isrc/ -DGPU -I/usr/local/cuda/include/ -Wall -Wno-unused-result -Wno-unknown-pragmas -Wfatal-errors -fPIC -Ofast -DGPU -c ./src/utils.c -o obj/utils.o\n",
            "gcc -Iinclude/ -Isrc/ -DGPU -I/usr/local/cuda/include/ -Wall -Wno-unused-result -Wno-unknown-pragmas -Wfatal-errors -fPIC -Ofast -DGPU -c ./src/cuda.c -o obj/cuda.o\n",
            "gcc -Iinclude/ -Isrc/ -DGPU -I/usr/local/cuda/include/ -Wall -Wno-unused-result -Wno-unknown-pragmas -Wfatal-errors -fPIC -Ofast -DGPU -c ./src/deconvolutional_layer.c -o obj/deconvolutional_layer.o\n",
            "gcc -Iinclude/ -Isrc/ -DGPU -I/usr/local/cuda/include/ -Wall -Wno-unused-result -Wno-unknown-pragmas -Wfatal-errors -fPIC -Ofast -DGPU -c ./src/convolutional_layer.c -o obj/convolutional_layer.o\n",
            "gcc -Iinclude/ -Isrc/ -DGPU -I/usr/local/cuda/include/ -Wall -Wno-unused-result -Wno-unknown-pragmas -Wfatal-errors -fPIC -Ofast -DGPU -c ./src/list.c -o obj/list.o\n",
            "gcc -Iinclude/ -Isrc/ -DGPU -I/usr/local/cuda/include/ -Wall -Wno-unused-result -Wno-unknown-pragmas -Wfatal-errors -fPIC -Ofast -DGPU -c ./src/image.c -o obj/image.o\n",
            "gcc -Iinclude/ -Isrc/ -DGPU -I/usr/local/cuda/include/ -Wall -Wno-unused-result -Wno-unknown-pragmas -Wfatal-errors -fPIC -Ofast -DGPU -c ./src/activations.c -o obj/activations.o\n",
            "gcc -Iinclude/ -Isrc/ -DGPU -I/usr/local/cuda/include/ -Wall -Wno-unused-result -Wno-unknown-pragmas -Wfatal-errors -fPIC -Ofast -DGPU -c ./src/im2col.c -o obj/im2col.o\n",
            "gcc -Iinclude/ -Isrc/ -DGPU -I/usr/local/cuda/include/ -Wall -Wno-unused-result -Wno-unknown-pragmas -Wfatal-errors -fPIC -Ofast -DGPU -c ./src/col2im.c -o obj/col2im.o\n",
            "gcc -Iinclude/ -Isrc/ -DGPU -I/usr/local/cuda/include/ -Wall -Wno-unused-result -Wno-unknown-pragmas -Wfatal-errors -fPIC -Ofast -DGPU -c ./src/blas.c -o obj/blas.o\n",
            "gcc -Iinclude/ -Isrc/ -DGPU -I/usr/local/cuda/include/ -Wall -Wno-unused-result -Wno-unknown-pragmas -Wfatal-errors -fPIC -Ofast -DGPU -c ./src/crop_layer.c -o obj/crop_layer.o\n",
            "gcc -Iinclude/ -Isrc/ -DGPU -I/usr/local/cuda/include/ -Wall -Wno-unused-result -Wno-unknown-pragmas -Wfatal-errors -fPIC -Ofast -DGPU -c ./src/dropout_layer.c -o obj/dropout_layer.o\n",
            "gcc -Iinclude/ -Isrc/ -DGPU -I/usr/local/cuda/include/ -Wall -Wno-unused-result -Wno-unknown-pragmas -Wfatal-errors -fPIC -Ofast -DGPU -c ./src/maxpool_layer.c -o obj/maxpool_layer.o\n",
            "gcc -Iinclude/ -Isrc/ -DGPU -I/usr/local/cuda/include/ -Wall -Wno-unused-result -Wno-unknown-pragmas -Wfatal-errors -fPIC -Ofast -DGPU -c ./src/softmax_layer.c -o obj/softmax_layer.o\n",
            "gcc -Iinclude/ -Isrc/ -DGPU -I/usr/local/cuda/include/ -Wall -Wno-unused-result -Wno-unknown-pragmas -Wfatal-errors -fPIC -Ofast -DGPU -c ./src/data.c -o obj/data.o\n",
            "gcc -Iinclude/ -Isrc/ -DGPU -I/usr/local/cuda/include/ -Wall -Wno-unused-result -Wno-unknown-pragmas -Wfatal-errors -fPIC -Ofast -DGPU -c ./src/matrix.c -o obj/matrix.o\n",
            "gcc -Iinclude/ -Isrc/ -DGPU -I/usr/local/cuda/include/ -Wall -Wno-unused-result -Wno-unknown-pragmas -Wfatal-errors -fPIC -Ofast -DGPU -c ./src/network.c -o obj/network.o\n",
            "gcc -Iinclude/ -Isrc/ -DGPU -I/usr/local/cuda/include/ -Wall -Wno-unused-result -Wno-unknown-pragmas -Wfatal-errors -fPIC -Ofast -DGPU -c ./src/connected_layer.c -o obj/connected_layer.o\n",
            "gcc -Iinclude/ -Isrc/ -DGPU -I/usr/local/cuda/include/ -Wall -Wno-unused-result -Wno-unknown-pragmas -Wfatal-errors -fPIC -Ofast -DGPU -c ./src/cost_layer.c -o obj/cost_layer.o\n",
            "gcc -Iinclude/ -Isrc/ -DGPU -I/usr/local/cuda/include/ -Wall -Wno-unused-result -Wno-unknown-pragmas -Wfatal-errors -fPIC -Ofast -DGPU -c ./src/parser.c -o obj/parser.o\n",
            "gcc -Iinclude/ -Isrc/ -DGPU -I/usr/local/cuda/include/ -Wall -Wno-unused-result -Wno-unknown-pragmas -Wfatal-errors -fPIC -Ofast -DGPU -c ./src/option_list.c -o obj/option_list.o\n",
            "gcc -Iinclude/ -Isrc/ -DGPU -I/usr/local/cuda/include/ -Wall -Wno-unused-result -Wno-unknown-pragmas -Wfatal-errors -fPIC -Ofast -DGPU -c ./src/detection_layer.c -o obj/detection_layer.o\n",
            "gcc -Iinclude/ -Isrc/ -DGPU -I/usr/local/cuda/include/ -Wall -Wno-unused-result -Wno-unknown-pragmas -Wfatal-errors -fPIC -Ofast -DGPU -c ./src/route_layer.c -o obj/route_layer.o\n",
            "gcc -Iinclude/ -Isrc/ -DGPU -I/usr/local/cuda/include/ -Wall -Wno-unused-result -Wno-unknown-pragmas -Wfatal-errors -fPIC -Ofast -DGPU -c ./src/upsample_layer.c -o obj/upsample_layer.o\n",
            "gcc -Iinclude/ -Isrc/ -DGPU -I/usr/local/cuda/include/ -Wall -Wno-unused-result -Wno-unknown-pragmas -Wfatal-errors -fPIC -Ofast -DGPU -c ./src/box.c -o obj/box.o\n",
            "gcc -Iinclude/ -Isrc/ -DGPU -I/usr/local/cuda/include/ -Wall -Wno-unused-result -Wno-unknown-pragmas -Wfatal-errors -fPIC -Ofast -DGPU -c ./src/normalization_layer.c -o obj/normalization_layer.o\n",
            "gcc -Iinclude/ -Isrc/ -DGPU -I/usr/local/cuda/include/ -Wall -Wno-unused-result -Wno-unknown-pragmas -Wfatal-errors -fPIC -Ofast -DGPU -c ./src/avgpool_layer.c -o obj/avgpool_layer.o\n",
            "gcc -Iinclude/ -Isrc/ -DGPU -I/usr/local/cuda/include/ -Wall -Wno-unused-result -Wno-unknown-pragmas -Wfatal-errors -fPIC -Ofast -DGPU -c ./src/layer.c -o obj/layer.o\n",
            "gcc -Iinclude/ -Isrc/ -DGPU -I/usr/local/cuda/include/ -Wall -Wno-unused-result -Wno-unknown-pragmas -Wfatal-errors -fPIC -Ofast -DGPU -c ./src/local_layer.c -o obj/local_layer.o\n",
            "gcc -Iinclude/ -Isrc/ -DGPU -I/usr/local/cuda/include/ -Wall -Wno-unused-result -Wno-unknown-pragmas -Wfatal-errors -fPIC -Ofast -DGPU -c ./src/shortcut_layer.c -o obj/shortcut_layer.o\n",
            "gcc -Iinclude/ -Isrc/ -DGPU -I/usr/local/cuda/include/ -Wall -Wno-unused-result -Wno-unknown-pragmas -Wfatal-errors -fPIC -Ofast -DGPU -c ./src/logistic_layer.c -o obj/logistic_layer.o\n",
            "gcc -Iinclude/ -Isrc/ -DGPU -I/usr/local/cuda/include/ -Wall -Wno-unused-result -Wno-unknown-pragmas -Wfatal-errors -fPIC -Ofast -DGPU -c ./src/activation_layer.c -o obj/activation_layer.o\n",
            "gcc -Iinclude/ -Isrc/ -DGPU -I/usr/local/cuda/include/ -Wall -Wno-unused-result -Wno-unknown-pragmas -Wfatal-errors -fPIC -Ofast -DGPU -c ./src/rnn_layer.c -o obj/rnn_layer.o\n",
            "gcc -Iinclude/ -Isrc/ -DGPU -I/usr/local/cuda/include/ -Wall -Wno-unused-result -Wno-unknown-pragmas -Wfatal-errors -fPIC -Ofast -DGPU -c ./src/gru_layer.c -o obj/gru_layer.o\n",
            "gcc -Iinclude/ -Isrc/ -DGPU -I/usr/local/cuda/include/ -Wall -Wno-unused-result -Wno-unknown-pragmas -Wfatal-errors -fPIC -Ofast -DGPU -c ./src/crnn_layer.c -o obj/crnn_layer.o\n",
            "gcc -Iinclude/ -Isrc/ -DGPU -I/usr/local/cuda/include/ -Wall -Wno-unused-result -Wno-unknown-pragmas -Wfatal-errors -fPIC -Ofast -DGPU -c ./src/demo.c -o obj/demo.o\n",
            "gcc -Iinclude/ -Isrc/ -DGPU -I/usr/local/cuda/include/ -Wall -Wno-unused-result -Wno-unknown-pragmas -Wfatal-errors -fPIC -Ofast -DGPU -c ./src/batchnorm_layer.c -o obj/batchnorm_layer.o\n",
            "gcc -Iinclude/ -Isrc/ -DGPU -I/usr/local/cuda/include/ -Wall -Wno-unused-result -Wno-unknown-pragmas -Wfatal-errors -fPIC -Ofast -DGPU -c ./src/region_layer.c -o obj/region_layer.o\n",
            "gcc -Iinclude/ -Isrc/ -DGPU -I/usr/local/cuda/include/ -Wall -Wno-unused-result -Wno-unknown-pragmas -Wfatal-errors -fPIC -Ofast -DGPU -c ./src/reorg_layer.c -o obj/reorg_layer.o\n",
            "gcc -Iinclude/ -Isrc/ -DGPU -I/usr/local/cuda/include/ -Wall -Wno-unused-result -Wno-unknown-pragmas -Wfatal-errors -fPIC -Ofast -DGPU -c ./src/tree.c -o obj/tree.o\n",
            "gcc -Iinclude/ -Isrc/ -DGPU -I/usr/local/cuda/include/ -Wall -Wno-unused-result -Wno-unknown-pragmas -Wfatal-errors -fPIC -Ofast -DGPU -c ./src/lstm_layer.c -o obj/lstm_layer.o\n",
            "gcc -Iinclude/ -Isrc/ -DGPU -I/usr/local/cuda/include/ -Wall -Wno-unused-result -Wno-unknown-pragmas -Wfatal-errors -fPIC -Ofast -DGPU -c ./src/l2norm_layer.c -o obj/l2norm_layer.o\n",
            "gcc -Iinclude/ -Isrc/ -DGPU -I/usr/local/cuda/include/ -Wall -Wno-unused-result -Wno-unknown-pragmas -Wfatal-errors -fPIC -Ofast -DGPU -c ./src/yolo_layer.c -o obj/yolo_layer.o\n",
            "gcc -Iinclude/ -Isrc/ -DGPU -I/usr/local/cuda/include/ -Wall -Wno-unused-result -Wno-unknown-pragmas -Wfatal-errors -fPIC -Ofast -DGPU -c ./src/iseg_layer.c -o obj/iseg_layer.o\n",
            "g++ -Iinclude/ -Isrc/ -DGPU -I/usr/local/cuda/include/ -Wall -Wno-unused-result -Wno-unknown-pragmas -Wfatal-errors -fPIC -Ofast -DGPU -c ./src/image_opencv.cpp -o obj/image_opencv.o\n",
            "nvcc  -gencode arch=compute_30,code=sm_30 -gencode arch=compute_35,code=sm_35 -gencode arch=compute_50,code=[sm_50,compute_50] -gencode arch=compute_52,code=[sm_52,compute_52] -Iinclude/ -Isrc/ -DGPU -I/usr/local/cuda/include/ --compiler-options \"-Wall -Wno-unused-result -Wno-unknown-pragmas -Wfatal-errors -fPIC -Ofast -DGPU\" -c ./src/convolutional_kernels.cu -o obj/convolutional_kernels.o\n",
            "nvcc  -gencode arch=compute_30,code=sm_30 -gencode arch=compute_35,code=sm_35 -gencode arch=compute_50,code=[sm_50,compute_50] -gencode arch=compute_52,code=[sm_52,compute_52] -Iinclude/ -Isrc/ -DGPU -I/usr/local/cuda/include/ --compiler-options \"-Wall -Wno-unused-result -Wno-unknown-pragmas -Wfatal-errors -fPIC -Ofast -DGPU\" -c ./src/deconvolutional_kernels.cu -o obj/deconvolutional_kernels.o\n",
            "nvcc  -gencode arch=compute_30,code=sm_30 -gencode arch=compute_35,code=sm_35 -gencode arch=compute_50,code=[sm_50,compute_50] -gencode arch=compute_52,code=[sm_52,compute_52] -Iinclude/ -Isrc/ -DGPU -I/usr/local/cuda/include/ --compiler-options \"-Wall -Wno-unused-result -Wno-unknown-pragmas -Wfatal-errors -fPIC -Ofast -DGPU\" -c ./src/activation_kernels.cu -o obj/activation_kernels.o\n",
            "nvcc  -gencode arch=compute_30,code=sm_30 -gencode arch=compute_35,code=sm_35 -gencode arch=compute_50,code=[sm_50,compute_50] -gencode arch=compute_52,code=[sm_52,compute_52] -Iinclude/ -Isrc/ -DGPU -I/usr/local/cuda/include/ --compiler-options \"-Wall -Wno-unused-result -Wno-unknown-pragmas -Wfatal-errors -fPIC -Ofast -DGPU\" -c ./src/im2col_kernels.cu -o obj/im2col_kernels.o\n",
            "nvcc  -gencode arch=compute_30,code=sm_30 -gencode arch=compute_35,code=sm_35 -gencode arch=compute_50,code=[sm_50,compute_50] -gencode arch=compute_52,code=[sm_52,compute_52] -Iinclude/ -Isrc/ -DGPU -I/usr/local/cuda/include/ --compiler-options \"-Wall -Wno-unused-result -Wno-unknown-pragmas -Wfatal-errors -fPIC -Ofast -DGPU\" -c ./src/col2im_kernels.cu -o obj/col2im_kernels.o\n",
            "nvcc  -gencode arch=compute_30,code=sm_30 -gencode arch=compute_35,code=sm_35 -gencode arch=compute_50,code=[sm_50,compute_50] -gencode arch=compute_52,code=[sm_52,compute_52] -Iinclude/ -Isrc/ -DGPU -I/usr/local/cuda/include/ --compiler-options \"-Wall -Wno-unused-result -Wno-unknown-pragmas -Wfatal-errors -fPIC -Ofast -DGPU\" -c ./src/blas_kernels.cu -o obj/blas_kernels.o\n",
            "nvcc  -gencode arch=compute_30,code=sm_30 -gencode arch=compute_35,code=sm_35 -gencode arch=compute_50,code=[sm_50,compute_50] -gencode arch=compute_52,code=[sm_52,compute_52] -Iinclude/ -Isrc/ -DGPU -I/usr/local/cuda/include/ --compiler-options \"-Wall -Wno-unused-result -Wno-unknown-pragmas -Wfatal-errors -fPIC -Ofast -DGPU\" -c ./src/crop_layer_kernels.cu -o obj/crop_layer_kernels.o\n",
            "nvcc  -gencode arch=compute_30,code=sm_30 -gencode arch=compute_35,code=sm_35 -gencode arch=compute_50,code=[sm_50,compute_50] -gencode arch=compute_52,code=[sm_52,compute_52] -Iinclude/ -Isrc/ -DGPU -I/usr/local/cuda/include/ --compiler-options \"-Wall -Wno-unused-result -Wno-unknown-pragmas -Wfatal-errors -fPIC -Ofast -DGPU\" -c ./src/dropout_layer_kernels.cu -o obj/dropout_layer_kernels.o\n",
            "nvcc  -gencode arch=compute_30,code=sm_30 -gencode arch=compute_35,code=sm_35 -gencode arch=compute_50,code=[sm_50,compute_50] -gencode arch=compute_52,code=[sm_52,compute_52] -Iinclude/ -Isrc/ -DGPU -I/usr/local/cuda/include/ --compiler-options \"-Wall -Wno-unused-result -Wno-unknown-pragmas -Wfatal-errors -fPIC -Ofast -DGPU\" -c ./src/maxpool_layer_kernels.cu -o obj/maxpool_layer_kernels.o\n",
            "nvcc  -gencode arch=compute_30,code=sm_30 -gencode arch=compute_35,code=sm_35 -gencode arch=compute_50,code=[sm_50,compute_50] -gencode arch=compute_52,code=[sm_52,compute_52] -Iinclude/ -Isrc/ -DGPU -I/usr/local/cuda/include/ --compiler-options \"-Wall -Wno-unused-result -Wno-unknown-pragmas -Wfatal-errors -fPIC -Ofast -DGPU\" -c ./src/avgpool_layer_kernels.cu -o obj/avgpool_layer_kernels.o\n",
            "gcc -Wall -Wno-unused-result -Wno-unknown-pragmas -Wfatal-errors -fPIC -Ofast -DGPU -shared obj/gemm.o obj/utils.o obj/cuda.o obj/deconvolutional_layer.o obj/convolutional_layer.o obj/list.o obj/image.o obj/activations.o obj/im2col.o obj/col2im.o obj/blas.o obj/crop_layer.o obj/dropout_layer.o obj/maxpool_layer.o obj/softmax_layer.o obj/data.o obj/matrix.o obj/network.o obj/connected_layer.o obj/cost_layer.o obj/parser.o obj/option_list.o obj/detection_layer.o obj/route_layer.o obj/upsample_layer.o obj/box.o obj/normalization_layer.o obj/avgpool_layer.o obj/layer.o obj/local_layer.o obj/shortcut_layer.o obj/logistic_layer.o obj/activation_layer.o obj/rnn_layer.o obj/gru_layer.o obj/crnn_layer.o obj/demo.o obj/batchnorm_layer.o obj/region_layer.o obj/reorg_layer.o obj/tree.o obj/lstm_layer.o obj/l2norm_layer.o obj/yolo_layer.o obj/iseg_layer.o obj/image_opencv.o obj/convolutional_kernels.o obj/deconvolutional_kernels.o obj/activation_kernels.o obj/im2col_kernels.o obj/col2im_kernels.o obj/blas_kernels.o obj/crop_layer_kernels.o obj/dropout_layer_kernels.o obj/maxpool_layer_kernels.o obj/avgpool_layer_kernels.o -o libdarknet.so -lm -pthread  -L/usr/local/cuda/lib64 -lcuda -lcudart -lcublas -lcurand -lstdc++ \n",
            "ar rcs libdarknet.a obj/gemm.o obj/utils.o obj/cuda.o obj/deconvolutional_layer.o obj/convolutional_layer.o obj/list.o obj/image.o obj/activations.o obj/im2col.o obj/col2im.o obj/blas.o obj/crop_layer.o obj/dropout_layer.o obj/maxpool_layer.o obj/softmax_layer.o obj/data.o obj/matrix.o obj/network.o obj/connected_layer.o obj/cost_layer.o obj/parser.o obj/option_list.o obj/detection_layer.o obj/route_layer.o obj/upsample_layer.o obj/box.o obj/normalization_layer.o obj/avgpool_layer.o obj/layer.o obj/local_layer.o obj/shortcut_layer.o obj/logistic_layer.o obj/activation_layer.o obj/rnn_layer.o obj/gru_layer.o obj/crnn_layer.o obj/demo.o obj/batchnorm_layer.o obj/region_layer.o obj/reorg_layer.o obj/tree.o obj/lstm_layer.o obj/l2norm_layer.o obj/yolo_layer.o obj/iseg_layer.o obj/image_opencv.o obj/convolutional_kernels.o obj/deconvolutional_kernels.o obj/activation_kernels.o obj/im2col_kernels.o obj/col2im_kernels.o obj/blas_kernels.o obj/crop_layer_kernels.o obj/dropout_layer_kernels.o obj/maxpool_layer_kernels.o obj/avgpool_layer_kernels.o\n",
            "gcc -Iinclude/ -Isrc/ -DGPU -I/usr/local/cuda/include/ -Wall -Wno-unused-result -Wno-unknown-pragmas -Wfatal-errors -fPIC -Ofast -DGPU -c ./examples/captcha.c -o obj/captcha.o\n",
            "gcc -Iinclude/ -Isrc/ -DGPU -I/usr/local/cuda/include/ -Wall -Wno-unused-result -Wno-unknown-pragmas -Wfatal-errors -fPIC -Ofast -DGPU -c ./examples/lsd.c -o obj/lsd.o\n",
            "gcc -Iinclude/ -Isrc/ -DGPU -I/usr/local/cuda/include/ -Wall -Wno-unused-result -Wno-unknown-pragmas -Wfatal-errors -fPIC -Ofast -DGPU -c ./examples/super.c -o obj/super.o\n",
            "gcc -Iinclude/ -Isrc/ -DGPU -I/usr/local/cuda/include/ -Wall -Wno-unused-result -Wno-unknown-pragmas -Wfatal-errors -fPIC -Ofast -DGPU -c ./examples/art.c -o obj/art.o\n",
            "gcc -Iinclude/ -Isrc/ -DGPU -I/usr/local/cuda/include/ -Wall -Wno-unused-result -Wno-unknown-pragmas -Wfatal-errors -fPIC -Ofast -DGPU -c ./examples/tag.c -o obj/tag.o\n",
            "gcc -Iinclude/ -Isrc/ -DGPU -I/usr/local/cuda/include/ -Wall -Wno-unused-result -Wno-unknown-pragmas -Wfatal-errors -fPIC -Ofast -DGPU -c ./examples/cifar.c -o obj/cifar.o\n",
            "gcc -Iinclude/ -Isrc/ -DGPU -I/usr/local/cuda/include/ -Wall -Wno-unused-result -Wno-unknown-pragmas -Wfatal-errors -fPIC -Ofast -DGPU -c ./examples/go.c -o obj/go.o\n",
            "gcc -Iinclude/ -Isrc/ -DGPU -I/usr/local/cuda/include/ -Wall -Wno-unused-result -Wno-unknown-pragmas -Wfatal-errors -fPIC -Ofast -DGPU -c ./examples/rnn.c -o obj/rnn.o\n",
            "gcc -Iinclude/ -Isrc/ -DGPU -I/usr/local/cuda/include/ -Wall -Wno-unused-result -Wno-unknown-pragmas -Wfatal-errors -fPIC -Ofast -DGPU -c ./examples/segmenter.c -o obj/segmenter.o\n",
            "gcc -Iinclude/ -Isrc/ -DGPU -I/usr/local/cuda/include/ -Wall -Wno-unused-result -Wno-unknown-pragmas -Wfatal-errors -fPIC -Ofast -DGPU -c ./examples/regressor.c -o obj/regressor.o\n",
            "gcc -Iinclude/ -Isrc/ -DGPU -I/usr/local/cuda/include/ -Wall -Wno-unused-result -Wno-unknown-pragmas -Wfatal-errors -fPIC -Ofast -DGPU -c ./examples/classifier.c -o obj/classifier.o\n",
            "gcc -Iinclude/ -Isrc/ -DGPU -I/usr/local/cuda/include/ -Wall -Wno-unused-result -Wno-unknown-pragmas -Wfatal-errors -fPIC -Ofast -DGPU -c ./examples/coco.c -o obj/coco.o\n",
            "gcc -Iinclude/ -Isrc/ -DGPU -I/usr/local/cuda/include/ -Wall -Wno-unused-result -Wno-unknown-pragmas -Wfatal-errors -fPIC -Ofast -DGPU -c ./examples/yolo.c -o obj/yolo.o\n",
            "gcc -Iinclude/ -Isrc/ -DGPU -I/usr/local/cuda/include/ -Wall -Wno-unused-result -Wno-unknown-pragmas -Wfatal-errors -fPIC -Ofast -DGPU -c ./examples/detector.c -o obj/detector.o\n",
            "gcc -Iinclude/ -Isrc/ -DGPU -I/usr/local/cuda/include/ -Wall -Wno-unused-result -Wno-unknown-pragmas -Wfatal-errors -fPIC -Ofast -DGPU -c ./examples/nightmare.c -o obj/nightmare.o\n",
            "gcc -Iinclude/ -Isrc/ -DGPU -I/usr/local/cuda/include/ -Wall -Wno-unused-result -Wno-unknown-pragmas -Wfatal-errors -fPIC -Ofast -DGPU -c ./examples/instance-segmenter.c -o obj/instance-segmenter.o\n",
            "gcc -Iinclude/ -Isrc/ -DGPU -I/usr/local/cuda/include/ -Wall -Wno-unused-result -Wno-unknown-pragmas -Wfatal-errors -fPIC -Ofast -DGPU -c ./examples/darknet.c -o obj/darknet.o\n",
            "gcc -Iinclude/ -Isrc/ -DGPU -I/usr/local/cuda/include/ -Wall -Wno-unused-result -Wno-unknown-pragmas -Wfatal-errors -fPIC -Ofast -DGPU obj/captcha.o obj/lsd.o obj/super.o obj/art.o obj/tag.o obj/cifar.o obj/go.o obj/rnn.o obj/segmenter.o obj/regressor.o obj/classifier.o obj/coco.o obj/yolo.o obj/detector.o obj/nightmare.o obj/instance-segmenter.o obj/darknet.o libdarknet.a -o darknet -lm -pthread  -L/usr/local/cuda/lib64 -lcuda -lcudart -lcublas -lcurand -lstdc++  libdarknet.a\n"
          ],
          "name": "stdout"
        }
      ]
    },
    {
      "cell_type": "code",
      "metadata": {
        "id": "-liuELtLfbJc",
        "colab_type": "code",
        "outputId": "d03c3b18-7c7d-4991-a42c-a106e5b43bd2",
        "colab": {
          "base_uri": "https://localhost:8080/",
          "height": 204
        }
      },
      "source": [
        "!wget https://pjreddie.com/media/files/yolov3.weights"
      ],
      "execution_count": 8,
      "outputs": [
        {
          "output_type": "stream",
          "text": [
            "--2020-05-03 12:16:53--  https://pjreddie.com/media/files/yolov3.weights\n",
            "Resolving pjreddie.com (pjreddie.com)... 128.208.4.108\n",
            "Connecting to pjreddie.com (pjreddie.com)|128.208.4.108|:443... connected.\n",
            "HTTP request sent, awaiting response... 200 OK\n",
            "Length: 248007048 (237M) [application/octet-stream]\n",
            "Saving to: ‘yolov3.weights’\n",
            "\n",
            "yolov3.weights      100%[===================>] 236.52M   458KB/s    in 8m 45s  \n",
            "\n",
            "2020-05-03 12:25:39 (461 KB/s) - ‘yolov3.weights’ saved [248007048/248007048]\n",
            "\n"
          ],
          "name": "stdout"
        }
      ]
    },
    {
      "cell_type": "code",
      "metadata": {
        "id": "x92K3IUTf9dx",
        "colab_type": "code",
        "outputId": "47abfcd4-f131-4195-a8a0-89ff7d2dd164",
        "colab": {
          "base_uri": "https://localhost:8080/",
          "height": 51
        }
      },
      "source": [
        "!pip install opencv-python"
      ],
      "execution_count": 0,
      "outputs": [
        {
          "output_type": "stream",
          "text": [
            "Requirement already satisfied: opencv-python in /usr/local/lib/python3.6/dist-packages (3.4.5.20)\n",
            "Requirement already satisfied: numpy>=1.11.3 in /usr/local/lib/python3.6/dist-packages (from opencv-python) (1.16.3)\n"
          ],
          "name": "stdout"
        }
      ]
    },
    {
      "cell_type": "code",
      "metadata": {
        "id": "p-AMzdl6gFJg",
        "colab_type": "code",
        "outputId": "925fbb8f-4609-4341-9b2e-29e324186c87",
        "colab": {
          "base_uri": "https://localhost:8080/",
          "height": 6290
        }
      },
      "source": [
        "!pip list"
      ],
      "execution_count": 0,
      "outputs": [
        {
          "output_type": "stream",
          "text": [
            "Package                  Version              \n",
            "------------------------ ---------------------\n",
            "absl-py                  0.7.1                \n",
            "alabaster                0.7.12               \n",
            "albumentations           0.1.12               \n",
            "altair                   3.0.1                \n",
            "astor                    0.7.1                \n",
            "astropy                  3.0.5                \n",
            "atari-py                 0.1.7                \n",
            "atomicwrites             1.3.0                \n",
            "attrs                    19.1.0               \n",
            "audioread                2.1.7                \n",
            "autograd                 1.2                  \n",
            "Babel                    2.6.0                \n",
            "backcall                 0.1.0                \n",
            "backports.tempfile       1.0                  \n",
            "backports.weakref        1.0.post1            \n",
            "beautifulsoup4           4.6.3                \n",
            "bleach                   3.1.0                \n",
            "bokeh                    1.0.4                \n",
            "boto                     2.49.0               \n",
            "boto3                    1.9.150              \n",
            "botocore                 1.12.150             \n",
            "Bottleneck               1.2.1                \n",
            "branca                   0.3.1                \n",
            "bs4                      0.0.1                \n",
            "bz2file                  0.98                 \n",
            "cachetools               3.1.0                \n",
            "certifi                  2019.3.9             \n",
            "cffi                     1.12.3               \n",
            "chainer                  5.4.0                \n",
            "chardet                  3.0.4                \n",
            "Click                    7.0                  \n",
            "cloudpickle              0.6.1                \n",
            "cmake                    3.12.0               \n",
            "colorlover               0.3.0                \n",
            "community                1.0.0b1              \n",
            "contextlib2              0.5.5                \n",
            "convertdate              2.1.3                \n",
            "coverage                 3.7.1                \n",
            "coveralls                0.5                  \n",
            "crcmod                   1.7                  \n",
            "cufflinks                0.14.6               \n",
            "cupy-cuda100             5.4.0                \n",
            "cvxopt                   1.2.3                \n",
            "cvxpy                    1.0.15               \n",
            "cycler                   0.10.0               \n",
            "cymem                    2.0.2                \n",
            "Cython                   0.29.7               \n",
            "cytoolz                  0.9.0.1              \n",
            "daft                     0.0.4                \n",
            "dask                     1.1.5                \n",
            "dataclasses              0.6                  \n",
            "datascience              0.10.6               \n",
            "decorator                4.4.0                \n",
            "defusedxml               0.6.0                \n",
            "dill                     0.2.9                \n",
            "distributed              1.25.3               \n",
            "Django                   2.2.1                \n",
            "dlib                     19.16.0              \n",
            "dm-sonnet                1.32                 \n",
            "docopt                   0.6.2                \n",
            "docutils                 0.14                 \n",
            "dopamine-rl              1.0.5                \n",
            "easydict                 1.9                  \n",
            "ecos                     2.0.7.post1          \n",
            "editdistance             0.5.3                \n",
            "en-core-web-sm           2.0.0                \n",
            "entrypoints              0.3                  \n",
            "enum34                   1.1.6                \n",
            "ephem                    3.7.6.0              \n",
            "et-xmlfile               1.0.1                \n",
            "fa2                      0.3.5                \n",
            "fancyimpute              0.4.3                \n",
            "fastai                   1.0.52               \n",
            "fastcache                1.1.0                \n",
            "fastdtw                  0.3.2                \n",
            "fastprogress             0.1.21               \n",
            "fastrlock                0.4                  \n",
            "fbprophet                0.5                  \n",
            "featuretools             0.4.1                \n",
            "filelock                 3.0.10               \n",
            "fix-yahoo-finance        0.0.22               \n",
            "Flask                    1.0.3                \n",
            "folium                   0.8.3                \n",
            "future                   0.16.0               \n",
            "gast                     0.2.2                \n",
            "GDAL                     2.2.2                \n",
            "gdown                    3.6.4                \n",
            "gensim                   3.6.0                \n",
            "geographiclib            1.49                 \n",
            "geopy                    1.17.0               \n",
            "gevent                   1.4.0                \n",
            "gin-config               0.1.4                \n",
            "glob2                    0.6                  \n",
            "google                   2.0.2                \n",
            "google-api-core          1.11.0               \n",
            "google-api-python-client 1.6.7                \n",
            "google-auth              1.4.2                \n",
            "google-auth-httplib2     0.0.3                \n",
            "google-auth-oauthlib     0.3.0                \n",
            "google-cloud-bigquery    1.8.1                \n",
            "google-cloud-core        0.29.1               \n",
            "google-cloud-language    1.0.2                \n",
            "google-cloud-storage     1.13.2               \n",
            "google-cloud-translate   1.3.3                \n",
            "google-colab             1.0.0                \n",
            "google-pasta             0.1.6                \n",
            "google-resumable-media   0.3.2                \n",
            "googleapis-common-protos 1.5.10               \n",
            "googledrivedownloader    0.3                  \n",
            "graph-nets               1.0.4                \n",
            "graphviz                 0.10.1               \n",
            "greenlet                 0.4.15               \n",
            "grpcio                   1.15.0               \n",
            "gspread                  3.0.1                \n",
            "gspread-dataframe        3.0.2                \n",
            "gunicorn                 19.9.0               \n",
            "gym                      0.10.11              \n",
            "h5py                     2.8.0                \n",
            "HeapDict                 1.0.0                \n",
            "holidays                 0.9.10               \n",
            "html5lib                 1.0.1                \n",
            "httpimport               0.5.16               \n",
            "httplib2                 0.11.3               \n",
            "humanize                 0.5.1                \n",
            "hyperopt                 0.1.2                \n",
            "ideep4py                 2.0.0.post3          \n",
            "idna                     2.8                  \n",
            "image                    1.5.27               \n",
            "imageio                  2.4.1                \n",
            "imagesize                1.1.0                \n",
            "imbalanced-learn         0.4.3                \n",
            "imblearn                 0.0                  \n",
            "imgaug                   0.2.9                \n",
            "imutils                  0.5.2                \n",
            "inflect                  2.1.0                \n",
            "intel-openmp             2019.0               \n",
            "intervaltree             2.1.0                \n",
            "ipykernel                4.6.1                \n",
            "ipython                  5.5.0                \n",
            "ipython-genutils         0.2.0                \n",
            "ipython-sql              0.3.9                \n",
            "ipywidgets               7.4.2                \n",
            "itsdangerous             1.1.0                \n",
            "jdcal                    1.4.1                \n",
            "jedi                     0.13.3               \n",
            "jieba                    0.39                 \n",
            "Jinja2                   2.10.1               \n",
            "jmespath                 0.9.4                \n",
            "joblib                   0.12.5               \n",
            "jpeg4py                  0.1.4                \n",
            "jsonschema               2.6.0                \n",
            "jupyter                  1.0.0                \n",
            "jupyter-client           5.2.4                \n",
            "jupyter-console          6.0.0                \n",
            "jupyter-core             4.4.0                \n",
            "kaggle                   1.5.3                \n",
            "kapre                    0.1.3.1              \n",
            "Keras                    2.2.4                \n",
            "Keras-Applications       1.0.7                \n",
            "Keras-Preprocessing      1.0.9                \n",
            "keras-vis                0.4.1                \n",
            "kiwisolver               1.1.0                \n",
            "knnimpute                0.1.0                \n",
            "librosa                  0.6.3                \n",
            "lightgbm                 2.2.3                \n",
            "llvmlite                 0.28.0               \n",
            "lmdb                     0.94                 \n",
            "lucid                    0.3.8                \n",
            "lunardate                0.2.0                \n",
            "lxml                     4.2.6                \n",
            "magenta                  0.3.19               \n",
            "Markdown                 3.1                  \n",
            "MarkupSafe               1.1.1                \n",
            "matplotlib               3.0.3                \n",
            "matplotlib-venn          0.11.5               \n",
            "mesh-tensorflow          0.0.5                \n",
            "mido                     1.2.6                \n",
            "mir-eval                 0.5                  \n",
            "missingno                0.4.1                \n",
            "mistune                  0.8.4                \n",
            "mkl                      2019.0               \n",
            "mlxtend                  0.14.0               \n",
            "mock                     3.0.5                \n",
            "more-itertools           7.0.0                \n",
            "moviepy                  0.2.3.5              \n",
            "mpi4py                   3.0.1                \n",
            "mpmath                   1.1.0                \n",
            "msgpack                  0.5.6                \n",
            "msgpack-numpy            0.4.3.2              \n",
            "multiprocess             0.70.7               \n",
            "multitasking             0.0.8                \n",
            "murmurhash               1.0.2                \n",
            "music21                  5.5.0                \n",
            "natsort                  5.5.0                \n",
            "nbconvert                5.5.0                \n",
            "nbformat                 4.4.0                \n",
            "networkx                 2.3                  \n",
            "nibabel                  2.3.3                \n",
            "nltk                     3.2.5                \n",
            "nose                     1.3.7                \n",
            "notebook                 5.2.2                \n",
            "np-utils                 0.5.10.0             \n",
            "numba                    0.40.1               \n",
            "numexpr                  2.6.9                \n",
            "numpy                    1.16.3               \n",
            "nvidia-ml-py3            7.352.0              \n",
            "oauth2client             4.1.3                \n",
            "oauthlib                 3.0.1                \n",
            "okgrade                  0.4.3                \n",
            "olefile                  0.46                 \n",
            "opencv-contrib-python    3.4.3.18             \n",
            "opencv-python            3.4.5.20             \n",
            "openpyxl                 2.5.9                \n",
            "osqp                     0.5.0                \n",
            "packaging                19.0                 \n",
            "pandas                   0.24.2               \n",
            "pandas-datareader        0.7.0                \n",
            "pandas-gbq               0.4.1                \n",
            "pandas-profiling         1.4.1                \n",
            "pandocfilters            1.4.2                \n",
            "parso                    0.4.0                \n",
            "pathlib                  1.0.1                \n",
            "patsy                    0.5.1                \n",
            "pexpect                  4.7.0                \n",
            "pickleshare              0.7.5                \n",
            "Pillow                   4.3.0                \n",
            "pip                      19.1.1               \n",
            "pip-tools                3.6.1                \n",
            "plac                     0.9.6                \n",
            "plotly                   3.6.1                \n",
            "pluggy                   0.7.1                \n",
            "portpicker               1.2.0                \n",
            "prefetch-generator       1.0.1                \n",
            "preshed                  2.0.1                \n",
            "pretty-midi              0.2.8                \n",
            "prettytable              0.7.2                \n",
            "progressbar2             3.38.0               \n",
            "prometheus-client        0.6.0                \n",
            "promise                  2.2.1                \n",
            "prompt-toolkit           1.0.16               \n",
            "protobuf                 3.7.1                \n",
            "psutil                   5.4.8                \n",
            "psycopg2                 2.7.6.1              \n",
            "ptyprocess               0.6.0                \n",
            "py                       1.8.0                \n",
            "pyasn1                   0.4.5                \n",
            "pyasn1-modules           0.2.5                \n",
            "pycocotools              2.0.0                \n",
            "pycparser                2.19                 \n",
            "pydot                    1.3.0                \n",
            "pydot-ng                 2.0.0                \n",
            "pydotplus                2.0.2                \n",
            "pyemd                    0.5.1                \n",
            "pyglet                   1.3.2                \n",
            "Pygments                 2.1.3                \n",
            "pygobject                3.26.1               \n",
            "pymc3                    3.6                  \n",
            "pymongo                  3.8.0                \n",
            "pymystem3                0.2.0                \n",
            "PyOpenGL                 3.1.0                \n",
            "pyparsing                2.4.0                \n",
            "pyrsistent               0.15.2               \n",
            "pysndfile                1.3.2                \n",
            "PySocks                  1.7.0                \n",
            "pystan                   2.19.0.0             \n",
            "pytest                   3.6.4                \n",
            "python-apt               1.6.3+ubuntu1        \n",
            "python-chess             0.23.11              \n",
            "python-dateutil          2.5.3                \n",
            "python-louvain           0.13                 \n",
            "python-rtmidi            1.3.0                \n",
            "python-slugify           3.0.2                \n",
            "python-utils             2.3.0                \n",
            "pytz                     2018.9               \n",
            "PyWavelets               1.0.3                \n",
            "PyYAML                   3.13                 \n",
            "pyzmq                    17.0.0               \n",
            "qtconsole                4.4.4                \n",
            "regex                    2018.1.10            \n",
            "requests                 2.21.0               \n",
            "requests-oauthlib        1.2.0                \n",
            "resampy                  0.2.1                \n",
            "retrying                 1.3.3                \n",
            "rpy2                     2.9.5                \n",
            "rsa                      4.0                  \n",
            "s3fs                     0.2.1                \n",
            "s3transfer               0.2.0                \n",
            "scikit-image             0.15.0               \n",
            "scikit-learn             0.21.1               \n",
            "scipy                    1.3.0                \n",
            "screen-resolution-extra  0.0.0                \n",
            "scs                      2.1.0                \n",
            "seaborn                  0.9.0                \n",
            "semantic-version         2.6.0                \n",
            "Send2Trash               1.5.0                \n",
            "setuptools               41.0.1               \n",
            "setuptools-git           1.2                  \n",
            "Shapely                  1.6.4.post2          \n",
            "simplegeneric            0.8.1                \n",
            "six                      1.12.0               \n",
            "sklearn                  0.0                  \n",
            "smart-open               1.8.3                \n",
            "snowballstemmer          1.2.1                \n",
            "sortedcontainers         2.1.0                \n",
            "spacy                    2.0.18               \n",
            "Sphinx                   1.8.5                \n",
            "sphinxcontrib-websupport 1.1.0                \n",
            "SQLAlchemy               1.3.3                \n",
            "sqlparse                 0.3.0                \n",
            "stable-baselines         2.2.1                \n",
            "statsmodels              0.9.0                \n",
            "sympy                    1.1.1                \n",
            "tables                   3.4.4                \n",
            "tabulate                 0.8.3                \n",
            "tb-nightly               1.14.0a20190301      \n",
            "tblib                    1.4.0                \n",
            "tensor2tensor            1.11.0               \n",
            "tensorboard              1.13.1               \n",
            "tensorboardcolab         0.0.22               \n",
            "tensorflow               1.13.1               \n",
            "tensorflow-estimator     1.13.0               \n",
            "tensorflow-gpu           2.0.0a0              \n",
            "tensorflow-hub           0.4.0                \n",
            "tensorflow-metadata      0.13.0               \n",
            "tensorflow-probability   0.6.0                \n",
            "termcolor                1.1.0                \n",
            "terminado                0.8.2                \n",
            "testpath                 0.4.2                \n",
            "text-unidecode           1.2                  \n",
            "textblob                 0.15.3               \n",
            "textgenrnn               1.4.1                \n",
            "tf-estimator-nightly     1.14.0.dev2019030115 \n",
            "tfds-nightly             1.0.2.dev201905170105\n",
            "tflearn                  0.3.2                \n",
            "Theano                   1.0.4                \n",
            "thinc                    6.12.1               \n",
            "toolz                    0.9.0                \n",
            "torch                    1.1.0                \n",
            "torchsummary             1.5.1                \n",
            "torchtext                0.3.1                \n",
            "torchvision              0.2.2.post3          \n",
            "tornado                  4.5.3                \n",
            "tqdm                     4.28.1               \n",
            "traitlets                4.3.2                \n",
            "tweepy                   3.6.0                \n",
            "typing                   3.6.6                \n",
            "tzlocal                  1.5.1                \n",
            "ujson                    1.35                 \n",
            "umap-learn               0.3.8                \n",
            "uritemplate              3.0.0                \n",
            "urllib3                  1.24.3               \n",
            "vega-datasets            0.7.0                \n",
            "wcwidth                  0.1.7                \n",
            "webencodings             0.5.1                \n",
            "Werkzeug                 0.15.4               \n",
            "wheel                    0.33.4               \n",
            "widgetsnbextension       3.4.2                \n",
            "wordcloud                1.5.0                \n",
            "wrapt                    1.10.11              \n",
            "xarray                   0.11.3               \n",
            "xgboost                  0.82                 \n",
            "xkit                     0.0.0                \n",
            "xlrd                     1.1.0                \n",
            "xlwt                     1.3.0                \n",
            "yellowbrick              0.9.1                \n",
            "zict                     0.1.4                \n",
            "zmq                      0.0.0                \n"
          ],
          "name": "stdout"
        }
      ]
    },
    {
      "cell_type": "code",
      "metadata": {
        "id": "14-NDjM9nwm5",
        "colab_type": "code",
        "colab": {
          "resources": {
            "http://localhost:8080/nbextensions/google.colab/files.js": {
              "data": "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",
              "ok": true,
              "headers": [
                [
                  "content-type",
                  "application/javascript"
                ]
              ],
              "status": 200,
              "status_text": ""
            }
          },
          "base_uri": "https://localhost:8080/",
          "height": 91
        },
        "outputId": "9c56d4e7-ca58-493c-8836-8cdcbb6ddf42"
      },
      "source": [
        "from google.colab import files\n",
        "\n",
        "uploaded = files.upload()\n",
        "\n",
        "for fn in uploaded.keys():\n",
        "  print('User uploaded file \"{name}\" with length {length} bytes'.format(\n",
        "      name=fn, length=len(uploaded[fn])))"
      ],
      "execution_count": 14,
      "outputs": [
        {
          "output_type": "display_data",
          "data": {
            "text/html": [
              "\n",
              "     <input type=\"file\" id=\"files-c9570a84-119f-4ea5-8032-4da0143706de\" name=\"files[]\" multiple disabled />\n",
              "     <output id=\"result-c9570a84-119f-4ea5-8032-4da0143706de\">\n",
              "      Upload widget is only available when the cell has been executed in the\n",
              "      current browser session. Please rerun this cell to enable.\n",
              "      </output>\n",
              "      <script src=\"/nbextensions/google.colab/files.js\"></script> "
            ],
            "text/plain": [
              "<IPython.core.display.HTML object>"
            ]
          },
          "metadata": {
            "tags": []
          }
        },
        {
          "output_type": "stream",
          "text": [
            "Saving automakersmain.jpg to automakersmain.jpg\n",
            "User uploaded file \"automakersmain.jpg\" with length 235426 bytes\n"
          ],
          "name": "stdout"
        }
      ]
    },
    {
      "cell_type": "code",
      "metadata": {
        "id": "op6mYMi0gppY",
        "colab_type": "code",
        "colab": {}
      },
      "source": [
        "!./darknet detect cfg/yolov3.cfg yolov3.weights data/dog.jpg"
      ],
      "execution_count": 0,
      "outputs": []
    },
    {
      "cell_type": "code",
      "metadata": {
        "id": "XyhPCwpcgHXC",
        "colab_type": "code",
        "colab": {}
      },
      "source": [
        "import cv2\n",
        "import matplotlib.pyplot as plt\n",
        "import os.path\n",
        "\n",
        "fig,ax = plt.subplots()\n",
        "ax.tick_params(labelbottom=\"off\",bottom=\"off\")\n",
        "ax.tick_params(labelleft=\"off\",left=\"off\")\n",
        "ax.set_xticklabels([]) \n",
        "ax.axis('off')\n",
        "\n",
        "file = './predictions.jpg'\n",
        "if os.path.exists(file):\n",
        "  img = cv2.imread(file)\n",
        "  show_img = cv2.cvtColor(img, cv2.COLOR_BGR2RGB) \n",
        "  plt.imshow(show_img)"
      ],
      "execution_count": 0,
      "outputs": []
    },
    {
      "cell_type": "code",
      "metadata": {
        "id": "-cOsBPAbgm3L",
        "colab_type": "code",
        "colab": {}
      },
      "source": [
        "!pip list"
      ],
      "execution_count": 0,
      "outputs": []
    },
    {
      "cell_type": "code",
      "metadata": {
        "id": "TmXLFEnFkrNe",
        "colab_type": "code",
        "colab": {}
      },
      "source": [
        "!cat /etc/os-release"
      ],
      "execution_count": 0,
      "outputs": []
    },
    {
      "cell_type": "code",
      "metadata": {
        "id": "tyPvT24WsMZn",
        "colab_type": "code",
        "colab": {}
      },
      "source": [
        "!ls /usr/local"
      ],
      "execution_count": 0,
      "outputs": []
    },
    {
      "cell_type": "code",
      "metadata": {
        "id": "xg1qonHRsjhh",
        "colab_type": "code",
        "colab": {}
      },
      "source": [
        ""
      ],
      "execution_count": 0,
      "outputs": []
    }
  ]
}